{
 "cells": [
  {
   "cell_type": "code",
   "execution_count": 1,
   "id": "7d4ae196",
   "metadata": {},
   "outputs": [],
   "source": [
    "import pandas as pd\n",
    "import numpy as np\n",
    "from sklearn import preprocessing\n",
    "from sklearn.preprocessing import MinMaxScaler\n",
    "import matplotlib.pyplot as plt \n",
    "from sklearn.linear_model import LogisticRegression\n",
    "from sklearn.model_selection import train_test_split\n",
    "import seaborn as sns\n",
    "from sklearn.metrics import confusion_matrix, accuracy_score, classification_report\n",
    "from sklearn.model_selection import ParameterGrid\n",
    "from sklearn.linear_model import SGDClassifier\n",
    "from sklearn.model_selection import GridSearchCV"
   ]
  },
  {
   "cell_type": "code",
   "execution_count": 2,
   "id": "d8541e79",
   "metadata": {},
   "outputs": [
    {
     "data": {
      "text/html": [
       "<div>\n",
       "<style scoped>\n",
       "    .dataframe tbody tr th:only-of-type {\n",
       "        vertical-align: middle;\n",
       "    }\n",
       "\n",
       "    .dataframe tbody tr th {\n",
       "        vertical-align: top;\n",
       "    }\n",
       "\n",
       "    .dataframe thead th {\n",
       "        text-align: right;\n",
       "    }\n",
       "</style>\n",
       "<table border=\"1\" class=\"dataframe\">\n",
       "  <thead>\n",
       "    <tr style=\"text-align: right;\">\n",
       "      <th></th>\n",
       "      <th>Variance of Wavelet Transformed image (continuous)</th>\n",
       "      <th>Skewness of Wavelet Transformed image (continuous)</th>\n",
       "      <th>Kurtosis of Wavelet Transformed image (continuous)</th>\n",
       "      <th>Entropy of image (continuous)</th>\n",
       "      <th>Class (target): Presumably 0 for genuine and 1 for forged</th>\n",
       "    </tr>\n",
       "  </thead>\n",
       "  <tbody>\n",
       "    <tr>\n",
       "      <th>0</th>\n",
       "      <td>3.62160</td>\n",
       "      <td>8.66610</td>\n",
       "      <td>-2.8073</td>\n",
       "      <td>-0.44699</td>\n",
       "      <td>0</td>\n",
       "    </tr>\n",
       "    <tr>\n",
       "      <th>1</th>\n",
       "      <td>4.54590</td>\n",
       "      <td>8.16740</td>\n",
       "      <td>-2.4586</td>\n",
       "      <td>-1.46210</td>\n",
       "      <td>0</td>\n",
       "    </tr>\n",
       "    <tr>\n",
       "      <th>2</th>\n",
       "      <td>3.86600</td>\n",
       "      <td>-2.63830</td>\n",
       "      <td>1.9242</td>\n",
       "      <td>0.10645</td>\n",
       "      <td>0</td>\n",
       "    </tr>\n",
       "    <tr>\n",
       "      <th>3</th>\n",
       "      <td>3.45660</td>\n",
       "      <td>9.52280</td>\n",
       "      <td>-4.0112</td>\n",
       "      <td>-3.59440</td>\n",
       "      <td>0</td>\n",
       "    </tr>\n",
       "    <tr>\n",
       "      <th>4</th>\n",
       "      <td>0.32924</td>\n",
       "      <td>-4.45520</td>\n",
       "      <td>4.5718</td>\n",
       "      <td>-0.98880</td>\n",
       "      <td>0</td>\n",
       "    </tr>\n",
       "    <tr>\n",
       "      <th>...</th>\n",
       "      <td>...</td>\n",
       "      <td>...</td>\n",
       "      <td>...</td>\n",
       "      <td>...</td>\n",
       "      <td>...</td>\n",
       "    </tr>\n",
       "    <tr>\n",
       "      <th>1367</th>\n",
       "      <td>0.40614</td>\n",
       "      <td>1.34920</td>\n",
       "      <td>-1.4501</td>\n",
       "      <td>-0.55949</td>\n",
       "      <td>1</td>\n",
       "    </tr>\n",
       "    <tr>\n",
       "      <th>1368</th>\n",
       "      <td>-1.38870</td>\n",
       "      <td>-4.87730</td>\n",
       "      <td>6.4774</td>\n",
       "      <td>0.34179</td>\n",
       "      <td>1</td>\n",
       "    </tr>\n",
       "    <tr>\n",
       "      <th>1369</th>\n",
       "      <td>-3.75030</td>\n",
       "      <td>-13.45860</td>\n",
       "      <td>17.5932</td>\n",
       "      <td>-2.77710</td>\n",
       "      <td>1</td>\n",
       "    </tr>\n",
       "    <tr>\n",
       "      <th>1370</th>\n",
       "      <td>-3.56370</td>\n",
       "      <td>-8.38270</td>\n",
       "      <td>12.3930</td>\n",
       "      <td>-1.28230</td>\n",
       "      <td>1</td>\n",
       "    </tr>\n",
       "    <tr>\n",
       "      <th>1371</th>\n",
       "      <td>-2.54190</td>\n",
       "      <td>-0.65804</td>\n",
       "      <td>2.6842</td>\n",
       "      <td>1.19520</td>\n",
       "      <td>1</td>\n",
       "    </tr>\n",
       "  </tbody>\n",
       "</table>\n",
       "<p>1372 rows × 5 columns</p>\n",
       "</div>"
      ],
      "text/plain": [
       "      Variance of Wavelet Transformed image (continuous)  \\\n",
       "0                                               3.62160    \n",
       "1                                               4.54590    \n",
       "2                                               3.86600    \n",
       "3                                               3.45660    \n",
       "4                                               0.32924    \n",
       "...                                                 ...    \n",
       "1367                                            0.40614    \n",
       "1368                                           -1.38870    \n",
       "1369                                           -3.75030    \n",
       "1370                                           -3.56370    \n",
       "1371                                           -2.54190    \n",
       "\n",
       "      Skewness of Wavelet Transformed image (continuous)  \\\n",
       "0                                               8.66610    \n",
       "1                                               8.16740    \n",
       "2                                              -2.63830    \n",
       "3                                               9.52280    \n",
       "4                                              -4.45520    \n",
       "...                                                 ...    \n",
       "1367                                            1.34920    \n",
       "1368                                           -4.87730    \n",
       "1369                                          -13.45860    \n",
       "1370                                           -8.38270    \n",
       "1371                                           -0.65804    \n",
       "\n",
       "      Kurtosis of Wavelet Transformed image (continuous)  \\\n",
       "0                                               -2.8073    \n",
       "1                                               -2.4586    \n",
       "2                                                1.9242    \n",
       "3                                               -4.0112    \n",
       "4                                                4.5718    \n",
       "...                                                 ...    \n",
       "1367                                            -1.4501    \n",
       "1368                                             6.4774    \n",
       "1369                                            17.5932    \n",
       "1370                                            12.3930    \n",
       "1371                                             2.6842    \n",
       "\n",
       "      Entropy of image (continuous)  \\\n",
       "0                          -0.44699   \n",
       "1                          -1.46210   \n",
       "2                           0.10645   \n",
       "3                          -3.59440   \n",
       "4                          -0.98880   \n",
       "...                             ...   \n",
       "1367                       -0.55949   \n",
       "1368                        0.34179   \n",
       "1369                       -2.77710   \n",
       "1370                       -1.28230   \n",
       "1371                        1.19520   \n",
       "\n",
       "      Class (target): Presumably 0 for genuine and 1 for forged  \n",
       "0                                                     0          \n",
       "1                                                     0          \n",
       "2                                                     0          \n",
       "3                                                     0          \n",
       "4                                                     0          \n",
       "...                                                 ...          \n",
       "1367                                                  1          \n",
       "1368                                                  1          \n",
       "1369                                                  1          \n",
       "1370                                                  1          \n",
       "1371                                                  1          \n",
       "\n",
       "[1372 rows x 5 columns]"
      ]
     },
     "execution_count": 2,
     "metadata": {},
     "output_type": "execute_result"
    }
   ],
   "source": [
    "df = pd.read_csv(\"data_banknote_authentication.txt\", sep=\",\", header=None, names=[\"Variance of Wavelet Transformed image (continuous)\", \"Skewness of Wavelet Transformed image (continuous)\", \"Kurtosis of Wavelet Transformed image (continuous)\", \"Entropy of image (continuous)\", \"Class (target): Presumably 0 for genuine and 1 for forged\"])\n",
    "df"
   ]
  },
  {
   "cell_type": "code",
   "execution_count": 3,
   "id": "f88ff86a",
   "metadata": {},
   "outputs": [
    {
     "data": {
      "text/plain": [
       "Variance of Wavelet Transformed image (continuous)           0\n",
       "Skewness of Wavelet Transformed image (continuous)           0\n",
       "Kurtosis of Wavelet Transformed image (continuous)           0\n",
       "Entropy of image (continuous)                                0\n",
       "Class (target): Presumably 0 for genuine and 1 for forged    0\n",
       "dtype: int64"
      ]
     },
     "execution_count": 3,
     "metadata": {},
     "output_type": "execute_result"
    }
   ],
   "source": [
    "#checking any null values in this dataset\n",
    "df.isnull().sum()"
   ]
  },
  {
   "cell_type": "code",
   "execution_count": 4,
   "id": "d5ee482c",
   "metadata": {},
   "outputs": [
    {
     "data": {
      "text/plain": [
       "0    762\n",
       "1    610\n",
       "Name: Class (target): Presumably 0 for genuine and 1 for forged, dtype: int64"
      ]
     },
     "execution_count": 4,
     "metadata": {},
     "output_type": "execute_result"
    }
   ],
   "source": [
    "#checking the Class(target) data\n",
    "df['Class (target): Presumably 0 for genuine and 1 for forged'].value_counts()"
   ]
  },
  {
   "cell_type": "code",
   "execution_count": 5,
   "id": "2291b9bd",
   "metadata": {},
   "outputs": [
    {
     "data": {
      "image/png": "[encoded data removed]",
      "text/plain": [
       "<Figure size 1296x720 with 2 Axes>"
      ]
     },
     "metadata": {
      "needs_background": "light"
     },
     "output_type": "display_data"
    }
   ],
   "source": [
    "fig, ax = plt.subplots(figsize=(18,10))\n",
    "sns.heatmap(df.corr(), annot=True, ax=ax);"
   ]
  },
  {
   "cell_type": "markdown",
   "id": "59e7e598",
   "metadata": {},
   "source": [
    "Qns2:"
   ]
  },
  {
   "cell_type": "code",
   "execution_count": 6,
   "id": "af9b82b4",
   "metadata": {},
   "outputs": [
    {
     "data": {
      "text/html": [
       "<div>\n",
       "<style scoped>\n",
       "    .dataframe tbody tr th:only-of-type {\n",
       "        vertical-align: middle;\n",
       "    }\n",
       "\n",
       "    .dataframe tbody tr th {\n",
       "        vertical-align: top;\n",
       "    }\n",
       "\n",
       "    .dataframe thead th {\n",
       "        text-align: right;\n",
       "    }\n",
       "</style>\n",
       "<table border=\"1\" class=\"dataframe\">\n",
       "  <thead>\n",
       "    <tr style=\"text-align: right;\">\n",
       "      <th></th>\n",
       "      <th>Variance of Wavelet Transformed image (continuous)</th>\n",
       "      <th>Skewness of Wavelet Transformed image (continuous)</th>\n",
       "      <th>Kurtosis of Wavelet Transformed image (continuous)</th>\n",
       "      <th>Entropy of image (continuous)</th>\n",
       "      <th>Class (target): Presumably 0 for genuine and 1 for forged</th>\n",
       "    </tr>\n",
       "  </thead>\n",
       "  <tbody>\n",
       "    <tr>\n",
       "      <th>0</th>\n",
       "      <td>0.769004</td>\n",
       "      <td>0.839643</td>\n",
       "      <td>0.106783</td>\n",
       "      <td>0.736628</td>\n",
       "      <td>0</td>\n",
       "    </tr>\n",
       "    <tr>\n",
       "      <th>1</th>\n",
       "      <td>0.835659</td>\n",
       "      <td>0.820982</td>\n",
       "      <td>0.121804</td>\n",
       "      <td>0.644326</td>\n",
       "      <td>0</td>\n",
       "    </tr>\n",
       "    <tr>\n",
       "      <th>2</th>\n",
       "      <td>0.786629</td>\n",
       "      <td>0.416648</td>\n",
       "      <td>0.310608</td>\n",
       "      <td>0.786951</td>\n",
       "      <td>0</td>\n",
       "    </tr>\n",
       "    <tr>\n",
       "      <th>3</th>\n",
       "      <td>0.757105</td>\n",
       "      <td>0.871699</td>\n",
       "      <td>0.054921</td>\n",
       "      <td>0.450440</td>\n",
       "      <td>0</td>\n",
       "    </tr>\n",
       "    <tr>\n",
       "      <th>4</th>\n",
       "      <td>0.531578</td>\n",
       "      <td>0.348662</td>\n",
       "      <td>0.424662</td>\n",
       "      <td>0.687362</td>\n",
       "      <td>0</td>\n",
       "    </tr>\n",
       "    <tr>\n",
       "      <th>...</th>\n",
       "      <td>...</td>\n",
       "      <td>...</td>\n",
       "      <td>...</td>\n",
       "      <td>...</td>\n",
       "      <td>...</td>\n",
       "    </tr>\n",
       "    <tr>\n",
       "      <th>1367</th>\n",
       "      <td>0.537124</td>\n",
       "      <td>0.565855</td>\n",
       "      <td>0.165249</td>\n",
       "      <td>0.726398</td>\n",
       "      <td>1</td>\n",
       "    </tr>\n",
       "    <tr>\n",
       "      <th>1368</th>\n",
       "      <td>0.407690</td>\n",
       "      <td>0.332868</td>\n",
       "      <td>0.506753</td>\n",
       "      <td>0.808350</td>\n",
       "      <td>1</td>\n",
       "    </tr>\n",
       "    <tr>\n",
       "      <th>1369</th>\n",
       "      <td>0.237385</td>\n",
       "      <td>0.011768</td>\n",
       "      <td>0.985603</td>\n",
       "      <td>0.524755</td>\n",
       "      <td>1</td>\n",
       "    </tr>\n",
       "    <tr>\n",
       "      <th>1370</th>\n",
       "      <td>0.250842</td>\n",
       "      <td>0.201701</td>\n",
       "      <td>0.761587</td>\n",
       "      <td>0.660675</td>\n",
       "      <td>1</td>\n",
       "    </tr>\n",
       "    <tr>\n",
       "      <th>1371</th>\n",
       "      <td>0.324528</td>\n",
       "      <td>0.490747</td>\n",
       "      <td>0.343348</td>\n",
       "      <td>0.885949</td>\n",
       "      <td>1</td>\n",
       "    </tr>\n",
       "  </tbody>\n",
       "</table>\n",
       "<p>1372 rows × 5 columns</p>\n",
       "</div>"
      ],
      "text/plain": [
       "      Variance of Wavelet Transformed image (continuous)  \\\n",
       "0                                              0.769004    \n",
       "1                                              0.835659    \n",
       "2                                              0.786629    \n",
       "3                                              0.757105    \n",
       "4                                              0.531578    \n",
       "...                                                 ...    \n",
       "1367                                           0.537124    \n",
       "1368                                           0.407690    \n",
       "1369                                           0.237385    \n",
       "1370                                           0.250842    \n",
       "1371                                           0.324528    \n",
       "\n",
       "      Skewness of Wavelet Transformed image (continuous)  \\\n",
       "0                                              0.839643    \n",
       "1                                              0.820982    \n",
       "2                                              0.416648    \n",
       "3                                              0.871699    \n",
       "4                                              0.348662    \n",
       "...                                                 ...    \n",
       "1367                                           0.565855    \n",
       "1368                                           0.332868    \n",
       "1369                                           0.011768    \n",
       "1370                                           0.201701    \n",
       "1371                                           0.490747    \n",
       "\n",
       "      Kurtosis of Wavelet Transformed image (continuous)  \\\n",
       "0                                              0.106783    \n",
       "1                                              0.121804    \n",
       "2                                              0.310608    \n",
       "3                                              0.054921    \n",
       "4                                              0.424662    \n",
       "...                                                 ...    \n",
       "1367                                           0.165249    \n",
       "1368                                           0.506753    \n",
       "1369                                           0.985603    \n",
       "1370                                           0.761587    \n",
       "1371                                           0.343348    \n",
       "\n",
       "      Entropy of image (continuous)  \\\n",
       "0                          0.736628   \n",
       "1                          0.644326   \n",
       "2                          0.786951   \n",
       "3                          0.450440   \n",
       "4                          0.687362   \n",
       "...                             ...   \n",
       "1367                       0.726398   \n",
       "1368                       0.808350   \n",
       "1369                       0.524755   \n",
       "1370                       0.660675   \n",
       "1371                       0.885949   \n",
       "\n",
       "      Class (target): Presumably 0 for genuine and 1 for forged  \n",
       "0                                                     0          \n",
       "1                                                     0          \n",
       "2                                                     0          \n",
       "3                                                     0          \n",
       "4                                                     0          \n",
       "...                                                 ...          \n",
       "1367                                                  1          \n",
       "1368                                                  1          \n",
       "1369                                                  1          \n",
       "1370                                                  1          \n",
       "1371                                                  1          \n",
       "\n",
       "[1372 rows x 5 columns]"
      ]
     },
     "execution_count": 6,
     "metadata": {},
     "output_type": "execute_result"
    }
   ],
   "source": [
    "#feature normalization\n",
    "scaler = MinMaxScaler()\n",
    "df.iloc[:, 0:-1]=scaler.fit_transform(df.iloc[:, 0:-1])\n",
    "df"
   ]
  },
  {
   "cell_type": "markdown",
   "id": "9a15bb99",
   "metadata": {},
   "source": [
    "Qns4:"
   ]
  },
  {
   "cell_type": "code",
   "execution_count": 7,
   "id": "b7f5bb09",
   "metadata": {},
   "outputs": [],
   "source": [
    "#split the data\n",
    "y = df['Class (target): Presumably 0 for genuine and 1 for forged']\n",
    "X = df.drop('Class (target): Presumably 0 for genuine and 1 for forged',axis=1)\n",
    "X_train,X_test,y_train,y_test = train_test_split(X,y,test_size = 0.3,random_state = 3)"
   ]
  },
  {
   "cell_type": "markdown",
   "id": "4b26a800",
   "metadata": {},
   "source": [
    "Qns5:"
   ]
  },
  {
   "cell_type": "code",
   "execution_count": 8,
   "id": "845d6917",
   "metadata": {},
   "outputs": [
    {
     "data": {
      "text/plain": [
       "SGDClassifier(loss='log')"
      ]
     },
     "execution_count": 8,
     "metadata": {},
     "output_type": "execute_result"
    }
   ],
   "source": [
    "clf = SGDClassifier(loss=\"log\")\n",
    "clf.fit(X_train, y_train)"
   ]
  },
  {
   "cell_type": "code",
   "execution_count": 9,
   "id": "6778b62e",
   "metadata": {},
   "outputs": [
    {
     "name": "stdout",
     "output_type": "stream",
     "text": [
      "tuned hyperparameters :(best parameters)  {'alpha': 0.001, 'eta0': 0.01, 'learning_rate': 'optimal', 'max_iter': 1000, 'tol': 0.0001}\n",
      "accuracy : 0.9708333333333334\n"
     ]
    }
   ],
   "source": [
    "#use default l2\n",
    "grid = {\n",
    "    'alpha': [0.001, 0.003, 0.01, 0.03, 0.1, 0.3],\n",
    "    'max_iter': [1000,2500,5000,7500,10000,12500,15000,17500,20000], \n",
    "    'learning_rate': ['constant','optimal','invscaling','adaptive'],\n",
    "    'tol': [0.0001, 0.001, 0.01, 0.1],\n",
    "    'eta0': [0.01]\n",
    "    }\n",
    "\n",
    "sgd_cv=GridSearchCV(clf,grid)\n",
    "sgd_cv.fit(X_train,y_train)\n",
    "print(\"tuned hyperparameters :(best parameters) \",sgd_cv.best_params_)\n",
    "print(\"accuracy :\",sgd_cv.best_score_)"
   ]
  },
  {
   "cell_type": "code",
   "execution_count": 10,
   "id": "911873c1",
   "metadata": {},
   "outputs": [
    {
     "name": "stdout",
     "output_type": "stream",
     "text": [
      "Confusion Matrix\n",
      "[[231   9]\n",
      " [  4 168]]\n"
     ]
    }
   ],
   "source": [
    "model = SGDClassifier(alpha = sgd_cv.best_params_['alpha'], eta0=0.01, loss ='log', learning_rate=sgd_cv.best_params_['learning_rate'], max_iter=sgd_cv.best_params_['max_iter'], tol=sgd_cv.best_params_['tol'])\n",
    "model.fit(X_train,y_train)\n",
    "\n",
    "y_pred = model.predict(X_test)\n",
    "print(\"Confusion Matrix\")\n",
    "matrix = confusion_matrix(y_test, y_pred)\n",
    "print(matrix)"
   ]
  },
  {
   "cell_type": "markdown",
   "id": "11d822c4",
   "metadata": {},
   "source": [
    "Qns6:"
   ]
  },
  {
   "cell_type": "code",
   "execution_count": 11,
   "id": "1937702a",
   "metadata": {},
   "outputs": [
    {
     "name": "stdout",
     "output_type": "stream",
     "text": [
      "\n",
      "Classification Report\n",
      "              precision    recall  f1-score   support\n",
      "\n",
      "           0       0.98      0.96      0.97       240\n",
      "           1       0.95      0.98      0.96       172\n",
      "\n",
      "    accuracy                           0.97       412\n",
      "   macro avg       0.97      0.97      0.97       412\n",
      "weighted avg       0.97      0.97      0.97       412\n",
      "\n"
     ]
    }
   ],
   "source": [
    "# Classification Report\n",
    "print(\"\\nClassification Report\")\n",
    "report = classification_report(y_test, y_pred)\n",
    "print(report)"
   ]
  },
  {
   "cell_type": "markdown",
   "id": "37072d10",
   "metadata": {},
   "source": [
    "Qns7:"
   ]
  },
  {
   "cell_type": "code",
   "execution_count": 12,
   "id": "5f8843af",
   "metadata": {},
   "outputs": [
    {
     "name": "stdout",
     "output_type": "stream",
     "text": [
      "tuned hyperparameters :(best parameters)  {'alpha': 0.001, 'eta0': 0.01, 'learning_rate': 'optimal', 'max_iter': 17500, 'penalty': 'l1', 'tol': 0.1}\n",
      "accuracy : 0.9770833333333334\n"
     ]
    }
   ],
   "source": [
    "grid1 = {\n",
    "    'alpha': [0.001, 0.003, 0.01, 0.03, 0.1, 0.3],\n",
    "    'max_iter': [1000,2500,5000,7500,10000,12500,15000,17500,20000], \n",
    "    'learning_rate': ['constant','optimal','invscaling','adaptive'],\n",
    "    'tol': [0.0001, 0.001, 0.01, 0.1],\n",
    "    'eta0': [0.01],\n",
    "    'penalty': ['l1', 'l2', 'elasticnet']\n",
    "    }\n",
    "\n",
    "sgd_cv1=GridSearchCV(clf,grid1)\n",
    "sgd_cv1.fit(X_train,y_train)\n",
    "print(\"tuned hyperparameters :(best parameters) \",sgd_cv1.best_params_)\n",
    "print(\"accuracy :\",sgd_cv1.best_score_)"
   ]
  },
  {
   "cell_type": "code",
   "execution_count": 13,
   "id": "0203c303",
   "metadata": {},
   "outputs": [
    {
     "name": "stdout",
     "output_type": "stream",
     "text": [
      "Confusion Matrix\n",
      "[[233   7]\n",
      " [  0 172]]\n"
     ]
    }
   ],
   "source": [
    "model1 = SGDClassifier(alpha = sgd_cv1.best_params_['alpha'], eta0=0.01, loss ='log', learning_rate=sgd_cv1.best_params_['learning_rate'], penalty=sgd_cv1.best_params_['penalty'], max_iter=sgd_cv1.best_params_['max_iter'], tol=sgd_cv1.best_params_['tol'])\n",
    "model1.fit(X_train,y_train)\n",
    "\n",
    "y_pred1 = model1.predict(X_test)\n",
    "print(\"Confusion Matrix\")\n",
    "matrix = confusion_matrix(y_test, y_pred1)\n",
    "print(matrix)"
   ]
  },
  {
   "cell_type": "markdown",
   "id": "2c465c5b",
   "metadata": {},
   "source": [
    "Qns8:"
   ]
  },
  {
   "cell_type": "code",
   "execution_count": 14,
   "id": "c5c0f1a1",
   "metadata": {},
   "outputs": [
    {
     "name": "stdout",
     "output_type": "stream",
     "text": [
      "\n",
      "Classification Report\n",
      "              precision    recall  f1-score   support\n",
      "\n",
      "           0       1.00      0.97      0.99       240\n",
      "           1       0.96      1.00      0.98       172\n",
      "\n",
      "    accuracy                           0.98       412\n",
      "   macro avg       0.98      0.99      0.98       412\n",
      "weighted avg       0.98      0.98      0.98       412\n",
      "\n"
     ]
    }
   ],
   "source": [
    "# Classification Report\n",
    "print(\"\\nClassification Report\")\n",
    "report1 = classification_report(y_test, y_pred1)\n",
    "print(report1)"
   ]
  },
  {
   "cell_type": "markdown",
   "id": "4f16adee",
   "metadata": {},
   "source": [
    "Qns9:"
   ]
  },
  {
   "cell_type": "code",
   "execution_count": 15,
   "id": "2fa3b2c5",
   "metadata": {},
   "outputs": [
    {
     "name": "stdout",
     "output_type": "stream",
     "text": [
      "Confusion Matrix\n",
      "[[239   1]\n",
      " [  0 172]]\n"
     ]
    }
   ],
   "source": [
    "from sklearn.neighbors import KNeighborsClassifier\n",
    "neigh = KNeighborsClassifier()\n",
    "neigh.fit(X_train,y_train)\n",
    "\n",
    "y_pred_KNN = neigh.predict(X_test)\n",
    "print(\"Confusion Matrix\")\n",
    "matrix = confusion_matrix(y_test, y_pred_KNN)\n",
    "print(matrix)"
   ]
  },
  {
   "cell_type": "code",
   "execution_count": 16,
   "id": "5bb1e0e2",
   "metadata": {},
   "outputs": [
    {
     "name": "stdout",
     "output_type": "stream",
     "text": [
      "\n",
      "Classification Report\n",
      "              precision    recall  f1-score   support\n",
      "\n",
      "           0       1.00      1.00      1.00       240\n",
      "           1       0.99      1.00      1.00       172\n",
      "\n",
      "    accuracy                           1.00       412\n",
      "   macro avg       1.00      1.00      1.00       412\n",
      "weighted avg       1.00      1.00      1.00       412\n",
      "\n"
     ]
    }
   ],
   "source": [
    "# Classification Report\n",
    "print(\"\\nClassification Report\")\n",
    "report = classification_report(y_test, y_pred_KNN)\n",
    "print(report)"
   ]
  },
  {
   "cell_type": "code",
   "execution_count": 17,
   "id": "6604307c",
   "metadata": {},
   "outputs": [
    {
     "data": {
      "image/png": "[encoded data removed]",
      "text/plain": [
       "<Figure size 432x288 with 1 Axes>"
      ]
     },
     "metadata": {},
     "output_type": "display_data"
    }
   ],
   "source": [
    "#raw data\n",
    "from numpy import where\n",
    "from matplotlib import pyplot\n",
    "\n",
    "X_plot=X.to_numpy()\n",
    "y_plot=y.to_numpy()\n",
    "X_test_plot=X_test.to_numpy()\n",
    "y_test_plot=y_test.to_numpy()\n",
    "\n",
    "\n",
    "for class_value in range(2):\n",
    "    # get row indexes for samples with this class\n",
    "    row_ix =where (y_plot == class_value)\n",
    "    # create scatter of these samples\n",
    "    pyplot.scatter(X_plot[row_ix, 0], X_plot[row_ix, 1])\n",
    "    ident = [0.0, 1.0]\n",
    "    ident1=[1.0,0.0]\n",
    "    plt.plot(ident,ident1,\"red\")\n",
    "    plt.xticks([])\n",
    "    plt.yticks([])\n",
    "# show the plot\n",
    "pyplot.show()"
   ]
  },
  {
   "cell_type": "code",
   "execution_count": 18,
   "id": "44166d5f",
   "metadata": {},
   "outputs": [
    {
     "data": {
      "image/png": "[encoded data removed]",
      "text/plain": [
       "<Figure size 432x288 with 1 Axes>"
      ]
     },
     "metadata": {},
     "output_type": "display_data"
    }
   ],
   "source": [
    "#logistics regression with penalty values\n",
    "for class_value in range(4):\n",
    "    # get row indexes for samples with this class\n",
    "    row_ix =where (y_pred1 == class_value)\n",
    "    # create scatter of these samples\n",
    "    pyplot.scatter(X_test_plot[row_ix, 0], X_test_plot[row_ix, 1])\n",
    "    ident = [0.0, 1.0]\n",
    "    ident1=[1.0,0.0]\n",
    "    plt.plot(ident,ident1,\"red\")\n",
    "    plt.xticks([])\n",
    "    plt.yticks([])\n",
    "# show the plot\n",
    "pyplot.show()"
   ]
  },
  {
   "cell_type": "code",
   "execution_count": 19,
   "id": "3300efce",
   "metadata": {},
   "outputs": [
    {
     "data": {
      "image/png": "[encoded data removed]",
      "text/plain": [
       "<Figure size 432x288 with 1 Axes>"
      ]
     },
     "metadata": {},
     "output_type": "display_data"
    }
   ],
   "source": [
    "#KNN\n",
    "for class_value in range(2):\n",
    "    # get row indexes for samples with this class\n",
    "    row_ix =where (y_pred_KNN == class_value)\n",
    "    # create scatter of these samples\n",
    "    pyplot.scatter(X_test_plot[row_ix, 0], X_test_plot[row_ix, 1])\n",
    "    ident = [0.0, 1.0]\n",
    "    ident1=[1.0,0.0]\n",
    "    plt.plot(ident,ident1,\"red\")\n",
    "    plt.xticks([])\n",
    "    plt.yticks([])\n",
    "# show the plot\n",
    "pyplot.show()"
   ]
  },
  {
   "cell_type": "code",
   "execution_count": null,
   "id": "ceb1aaf5",
   "metadata": {},
   "outputs": [],
   "source": []
  }
 ],
 "metadata": {
  "kernelspec": {
   "display_name": "Python 3 (ipykernel)",
   "language": "python",
   "name": "python3"
  },
  "language_info": {
   "codemirror_mode": {
    "name": "ipython",
    "version": 3
   },
   "file_extension": ".py",
   "mimetype": "text/x-python",
   "name": "python",
   "nbconvert_exporter": "python",
   "pygments_lexer": "ipython3",
   "version": "3.9.7"
  }
 },
 "nbformat": 4,
 "nbformat_minor": 5
}
